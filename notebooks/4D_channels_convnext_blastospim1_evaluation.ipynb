{
 "cells": [
  {
   "cell_type": "code",
   "execution_count": 1,
   "id": "b57f16ff-f34c-4c01-9ef0-e6996141e5fe",
   "metadata": {
    "tags": []
   },
   "outputs": [
    {
     "name": "stderr",
     "output_type": "stream",
     "text": [
      "/mnt/sw/nix/store/71ksmx7k6xy3v9ksfkv5mp5kxxp64pd6-python-3.10.13-view/lib/python3.10/site-packages/numpy/core/getlimits.py:549: UserWarning: The value of the smallest subnormal for <class 'numpy.float64'> type is zero.\n",
      "  setattr(self, word, getattr(machar, word).flat[0])\n",
      "/mnt/sw/nix/store/71ksmx7k6xy3v9ksfkv5mp5kxxp64pd6-python-3.10.13-view/lib/python3.10/site-packages/numpy/core/getlimits.py:89: UserWarning: The value of the smallest subnormal for <class 'numpy.float64'> type is zero.\n",
      "  return self._float_to_str(self.smallest_subnormal)\n",
      "/mnt/sw/nix/store/71ksmx7k6xy3v9ksfkv5mp5kxxp64pd6-python-3.10.13-view/lib/python3.10/site-packages/numpy/core/getlimits.py:549: UserWarning: The value of the smallest subnormal for <class 'numpy.float32'> type is zero.\n",
      "  setattr(self, word, getattr(machar, word).flat[0])\n",
      "/mnt/sw/nix/store/71ksmx7k6xy3v9ksfkv5mp5kxxp64pd6-python-3.10.13-view/lib/python3.10/site-packages/numpy/core/getlimits.py:89: UserWarning: The value of the smallest subnormal for <class 'numpy.float32'> type is zero.\n",
      "  return self._float_to_str(self.smallest_subnormal)\n",
      "__init__.py (48): Importing from timm.models.layers is deprecated, please import via timm.layers\n"
     ]
    }
   ],
   "source": [
    "import os\n",
    "import sys\n",
    "import yaml\n",
    "\n",
    "from glob import glob\n",
    "from tqdm.auto import tqdm\n",
    "\n",
    "import torch\n",
    "from torch.utils.data import Dataset, DataLoader\n",
    "\n",
    "import numpy as np\n",
    "import pandas as pd\n",
    "from scipy.ndimage import zoom\n",
    "import matplotlib.pyplot as plt\n",
    "from great_tables import GT\n",
    "from PIL import Image\n",
    "\n",
    "# Pytorch StarDist3D\n",
    "sys.path.append('..')\n",
    "from pytorch_stardist.data.utils import normalize\n",
    "from pytorch_stardist.models.config import Config3D\n",
    "from pytorch_stardist.models.stardist3d import StarDist3D\n",
    "from utils import seed_all, prepare_conf\n",
    "\n",
    "from stardist_tools.matching import matching_dataset\n",
    "from evaluate import evaluate\n",
    "\n",
    "# Need this even when not using multiprocessing\n",
    "os.environ[\"LOCAL_RANK\"] = '0'\n",
    "os.environ[\"RANK\"] = '0'"
   ]
  },
  {
   "cell_type": "code",
   "execution_count": 2,
   "id": "6510aac6-e91d-44b3-980a-c512853deffe",
   "metadata": {
    "tags": []
   },
   "outputs": [],
   "source": [
    "config_file = '../confs/train_convnext_unet_base-3D.yaml'\n",
    "\n",
    "with open(config_file) as yconf:\n",
    "    opt = yaml.safe_load(yconf)\n",
    "\n",
    "Config = Config3D\n",
    "StarDist = StarDist3D\n",
    "\n",
    "conf = Config(**opt, allow_new_params=True)\n",
    "\n",
    "# Set random seed\n",
    "seed_all(conf.random_seed)\n",
    "\n",
    "# process the configuration variables\n",
    "opt = prepare_conf(conf)\n",
    "\n",
    "# Model instanciation\n",
    "model = StarDist(opt)\n",
    "#model.net.load_state_dict(torch.load('../model_checkpoints/convnext_unet_base-3D.pth'))\n",
    "model.net.load_state_dict(torch.load('../../nuclear_segmentation/experiments/model_checkpoints/convnext_unet_base-3D/best.pth')['model_state_dict'])\n",
    "model.net.to(model.device)\n",
    "\n",
    "model.thresholds['prob'] = 0.5\n",
    "model.thresholds['nms'] = 0.3"
   ]
  },
  {
   "cell_type": "code",
   "execution_count": 3,
   "id": "86a82a65-ad88-465f-b0d1-6bdf60ffdb0c",
   "metadata": {},
   "outputs": [
    {
     "data": {
      "text/plain": [
       "135295201"
      ]
     },
     "execution_count": 3,
     "metadata": {},
     "output_type": "execute_result"
    }
   ],
   "source": [
    "sum(p.numel() for p in model.parameters())"
   ]
  },
  {
   "cell_type": "code",
   "execution_count": 4,
   "id": "50c9295a-b088-417b-bd70-a46fc693e811",
   "metadata": {},
   "outputs": [],
   "source": [
    "class BlastospimDataset(Dataset):\n",
    "    def __init__(self, image_names, source_dir):\n",
    "        self.image_paths = []\n",
    "        self.mask_paths = []\n",
    "        for name in image_names:\n",
    "            self.image_paths.append(f'{source_dir}/{name}/{name}/images/{name}_image_0001.npy')\n",
    "            self.mask_paths.append(f'{source_dir}/{name}/{name}/masks/{name}_masks_0001.npy')\n",
    "\n",
    "    def __len__(self):\n",
    "        return len(self.image_paths)\n",
    "    \n",
    "    def __getitem__(self, idx):\n",
    "        image_path = self.image_paths[idx]\n",
    "        mask_path = self.mask_paths[idx]\n",
    "        \n",
    "        image = np.load(image_path)\n",
    "        mask = np.load(mask_path)\n",
    "\n",
    "        # Make image dimensions divisible by n:\n",
    "        n = 32\n",
    "        image = image[:image.shape[0]-image.shape[0]%n, :image.shape[1]-image.shape[1]%n, :image.shape[2]-image.shape[2]%n]\n",
    "        mask = mask[:mask.shape[0]-mask.shape[0]%n, :mask.shape[1]-mask.shape[1]%n, :mask.shape[2]-mask.shape[2]%n]\n",
    "        assert image.shape == mask.shape\n",
    "\n",
    "        # Normalize image\n",
    "        axis_norm = (0, 1, 2)  # normalize channels independently\n",
    "        image = np.expand_dims(normalize(image, 1, 99.8, axis=axis_norm), 0) # Add channel for one color\n",
    "\n",
    "        return {\n",
    "            'image':image.astype(np.float32),\n",
    "            'mask':mask.astype(np.int16)\n",
    "        }"
   ]
  },
  {
   "cell_type": "code",
   "execution_count": 5,
   "id": "d8164d47-4dc1-4491-86c8-6ef6af732f12",
   "metadata": {},
   "outputs": [],
   "source": [
    "testset8 = ['F24_001', 'F24_002', 'F24_006', 'F25_002', 'F25_008', 'F27_010', 'F27_007', 'F27_009', 'F29_003','F29_004', 'F30_004', 'F30_008', 'F30_009', 'M6_021', 'M6_012']\n",
    "testset16 = ['M7_004', 'M7_000', 'F42_063', 'F41_056', 'F34_073', 'F33_067', 'F26_008', 'F24_010']\n",
    "testset32 = ['F8_072', 'F44_087', 'F44_089', 'F39_117']\n",
    "testset64 = ['F40_136', 'F49_148']\n",
    "testset128 = ['F55_185']\n",
    "\n",
    "testset2_lowsnr = ['F11_070','F11_071']\n",
    "testset4_lowsnr = ['T1_003', 'T1_004']\n",
    "testset8_lowsnr = ['H1_003','H1_005','H1_006','H2_011','H2_012','H3_000','H3_002','H3_007','H3_009','H5_004','H5_007','H5_009','H6_016','H7_002','H7_004','H7_007','H7_008','H8_011','H8_016','H8_018','H9_000','H9_001','H9_010','H9_008','M14_016','M3_002','M3_003','M3_008','M4_011','M4_012','M4_013','M4_017','M14_018']\n",
    "testset16_lowsnr = ['M14_019','M14_020','H2_016','H8_021','H4_011','H4_012','F16_068','F16_069','F16_070','F16_072','H4_013','M10_012','M10_015','M10_018','M7_007','M7_008','M8_014','M8_015','M8_016']\n",
    "testset32_lowsnr = ['F9_071','F9_074']\n",
    "testset64_lowsnr = ['F2_013','F2_012']\n",
    "\n",
    "source_dir = '/mnt/ceph/users/alu10/datasets/GTSets/2023_Full_Iso-Trilinear_Image'"
   ]
  },
  {
   "cell_type": "code",
   "execution_count": null,
   "id": "00af9972-b140-419a-9b8f-dc4ae7685910",
   "metadata": {},
   "outputs": [
    {
     "name": "stdout",
     "output_type": "stream",
     "text": [
      "Generating masks for 8 nuceli stage\n"
     ]
    },
    {
     "data": {
      "application/vnd.jupyter.widget-view+json": {
       "model_id": "cd6e1d119365417cb4486f914a80f303",
       "version_major": 2,
       "version_minor": 0
      },
      "text/plain": [
       "  0%|          | 0/15 [00:00<?, ?it/s]"
      ]
     },
     "metadata": {},
     "output_type": "display_data"
    },
    {
     "name": "stdout",
     "output_type": "stream",
     "text": [
      "Generating masks for 16 nuceli stage\n"
     ]
    },
    {
     "data": {
      "application/vnd.jupyter.widget-view+json": {
       "model_id": "38038e75539c4f488ee48f8871fdd01e",
       "version_major": 2,
       "version_minor": 0
      },
      "text/plain": [
       "  0%|          | 0/8 [00:00<?, ?it/s]"
      ]
     },
     "metadata": {},
     "output_type": "display_data"
    }
   ],
   "source": [
    "def generate_masks(dataset):\n",
    "    test_dataset = BlastospimDataset(dataset, source_dir)\n",
    "    test_dataloader = DataLoader(test_dataset, batch_size=1, shuffle=False)\n",
    "\n",
    "    predicted_labels = []\n",
    "    gt_masks = []\n",
    "    gt_images = []\n",
    "    \n",
    "    for batch in tqdm(test_dataloader):\n",
    "        image, mask = batch['image'][0].numpy(), batch['mask'][0].numpy()\n",
    "        labels, details = model.predict_instance(image, patch_size=[256, 256, 256], context=[64, 64, 64]) \n",
    "        predicted_labels.append(labels)\n",
    "        gt_masks.append(mask)\n",
    "        gt_images.append(image)\n",
    "        \n",
    "    return predicted_labels, gt_masks, gt_images\n",
    "\n",
    "\n",
    "# Run for each stage\n",
    "print('Generating masks for 8 nuceli stage')\n",
    "predicted_labels_8, gt_masks_8, gt_images_8 = generate_masks(testset8)\n",
    "\n",
    "print('Generating masks for 16 nuceli stage')\n",
    "predicted_labels_16, gt_masks_16, gt_images_16 = generate_masks(testset16)\n",
    "\n",
    "print('Generating masks for 32 nuceli stage')\n",
    "predicted_labels_32, gt_masks_32, gt_images_32 = generate_masks(testset32)\n",
    "\n",
    "print('Generating masks for 64 nuceli stage')\n",
    "predicted_labels_64, gt_masks_64, gt_images_64 = generate_masks(testset64)\n",
    "\n",
    "print('Generating masks for 128 nuceli stage')\n",
    "predicted_labels_128, gt_masks_128, gt_images_128 = generate_masks(testset128)"
   ]
  },
  {
   "cell_type": "code",
   "execution_count": null,
   "id": "d17af51e-0e26-4715-aecb-67fc89a6c3cb",
   "metadata": {},
   "outputs": [],
   "source": [
    "# Define the IoU thresholds and initialize results dictionary\n",
    "iou_thresholds = [0.5, 0.6, 0.7, 0.8, 0.9]\n",
    "results = {\n",
    "    'IoU Threshold': [],\n",
    "    'Precision (8 nuclei)': [],\n",
    "    'Recall (8 nuclei)': [],\n",
    "    'Precision (16 nuclei)': [],\n",
    "    'Recall (16 nuclei)': [],\n",
    "    'Precision (32 nuclei)': [],\n",
    "    'Recall (32 nuclei)': [],\n",
    "    'Precision (64 nuclei)': [],\n",
    "    'Recall (64 nuclei)': [],\n",
    "    'Precision (128 nuclei)': [],\n",
    "    'Recall (128 nuclei)': [],\n",
    "}\n",
    "\n",
    "# Helper function to compute stats for a given threshold\n",
    "def compute_stats(gt, pred, thresh):\n",
    "    stats = matching_dataset(gt, pred, thresh=thresh, show_progress=False)\n",
    "    return stats.precision, stats.recall\n",
    "\n",
    "# Fill the results dictionary\n",
    "for thresh in tqdm(iou_thresholds):\n",
    "    p8, r8 = compute_stats(gt_masks_8, predicted_labels_8, thresh)\n",
    "    p16, r16 = compute_stats(gt_masks_16, predicted_labels_16, thresh)\n",
    "    p32, r32 = compute_stats(gt_masks_32, predicted_labels_32, thresh)\n",
    "    p64, r64 = compute_stats(gt_masks_64, predicted_labels_64, thresh)\n",
    "    p128, r128 = compute_stats(gt_masks_128, predicted_labels_128, thresh)\n",
    "\n",
    "    results['IoU Threshold'].append(thresh)\n",
    "    results['Precision (8 nuclei)'].append(p8)\n",
    "    results['Recall (8 nuclei)'].append(r8)\n",
    "    results['Precision (16 nuclei)'].append(p16)\n",
    "    results['Recall (16 nuclei)'].append(r16)\n",
    "    results['Precision (32 nuclei)'].append(p32)\n",
    "    results['Recall (32 nuclei)'].append(r32)\n",
    "    results['Precision (64 nuclei)'].append(p64)\n",
    "    results['Recall (64 nuclei)'].append(r64)\n",
    "    results['Precision (128 nuclei)'].append(p128)\n",
    "    results['Recall (128 nuclei)'].append(r128)\n",
    "\n",
    "# Convert to DataFrame and display\n",
    "df_results = pd.DataFrame(results)\n",
    "df_results.to_csv('convnext_unet_base-3D-blastospim1_results.csv', index=False)\n",
    "display(df_results)"
   ]
  },
  {
   "cell_type": "code",
   "execution_count": null,
   "id": "0907dd8f-9e4d-4dca-9e68-3e9ae68b16dc",
   "metadata": {},
   "outputs": [],
   "source": [
    "# Display results with great_tables\n",
    "gt = (\n",
    "    GT(df_results)\n",
    "    .tab_header(\n",
    "        title=\"Precision and Recall Across IoU Thresholds\",\n",
    "        #subtitle=\"Evaluated on Varying Numbers of Nuclei\"\n",
    "    )\n",
    "    .cols_label(\n",
    "        **{\n",
    "            \"IoU Threshold\": \"IoU Threshold\",\n",
    "            \"Precision (8 nuclei)\": \"Precision\",\n",
    "            \"Recall (8 nuclei)\": \"Recall\",\n",
    "            \"Precision (16 nuclei)\": \"Precision\",\n",
    "            \"Recall (16 nuclei)\": \"Recall\",\n",
    "            \"Precision (32 nuclei)\": \"Precision\",\n",
    "            \"Recall (32 nuclei)\": \"Recall\",\n",
    "            \"Precision (64 nuclei)\": \"Precision\",\n",
    "            \"Recall (64 nuclei)\": \"Recall\",\n",
    "            \"Precision (128 nuclei)\": \"Precision\",\n",
    "            \"Recall (128 nuclei)\": \"Recall\",\n",
    "        }\n",
    "    )\n",
    "    .tab_spanner(label=\"8 Nuclei\", columns=[\"Precision (8 nuclei)\", \"Recall (8 nuclei)\"])\n",
    "    .tab_spanner(label=\"16 Nuclei\", columns=[\"Precision (16 nuclei)\", \"Recall (16 nuclei)\"])\n",
    "    .tab_spanner(label=\"32 Nuclei\", columns=[\"Precision (32 nuclei)\", \"Recall (32 nuclei)\"])\n",
    "    .tab_spanner(label=\"64 Nuclei\", columns=[\"Precision (64 nuclei)\", \"Recall (64 nuclei)\"])\n",
    "    .tab_spanner(label=\"128 Nuclei\", columns=[\"Precision (128 nuclei)\", \"Recall (128 nuclei)\"])\n",
    "    .fmt_number(columns=lambda col: col != \"IoU Threshold\", decimals=3)\n",
    "    .cols_align(align=\"center\")\n",
    "    .opt_table_font(font=\"Arial\")\n",
    ")\n",
    "\n",
    "gt.show()"
   ]
  },
  {
   "cell_type": "code",
   "execution_count": null,
   "id": "43033f32-17e3-4b28-81b5-290c11652823",
   "metadata": {},
   "outputs": [],
   "source": [
    "# Prepare the data\n",
    "iou_thresholds = df_results['IoU Threshold'].values\n",
    "\n",
    "# Create figure and axes\n",
    "fig, axes = plt.subplots(1, 2, figsize=(14, 5), sharex=True)\n",
    "\n",
    "# Plot Precision\n",
    "axes[0].plot(iou_thresholds, df_results['Precision (8 nuclei)'], label='8 nuclei', marker='o')\n",
    "axes[0].plot(iou_thresholds, df_results['Precision (16 nuclei)'], label='16 nuclei', marker='o')\n",
    "axes[0].plot(iou_thresholds, df_results['Precision (32 nuclei)'], label='32 nuclei', marker='o')\n",
    "axes[0].plot(iou_thresholds, df_results['Precision (64 nuclei)'], label='64 nuclei', marker='o')\n",
    "axes[0].plot(iou_thresholds, df_results['Precision (128 nuclei)'], label='128 nuclei', marker='o')\n",
    "axes[0].set_title('Precision vs IoU Threshold')\n",
    "axes[0].set_xlabel('IoU Threshold')\n",
    "axes[0].set_ylabel('Precision')\n",
    "axes[0].grid(True)\n",
    "axes[0].legend(loc='lower left')\n",
    "\n",
    "# Plot Recall\n",
    "axes[1].plot(iou_thresholds, df_results['Recall (8 nuclei)'], label='8 nuclei', marker='o')\n",
    "axes[1].plot(iou_thresholds, df_results['Recall (16 nuclei)'], label='16 nuclei', marker='o')\n",
    "axes[1].plot(iou_thresholds, df_results['Recall (32 nuclei)'], label='32 nuclei', marker='o')\n",
    "axes[1].plot(iou_thresholds, df_results['Recall (64 nuclei)'], label='64 nuclei', marker='o')\n",
    "axes[1].plot(iou_thresholds, df_results['Recall (128 nuclei)'], label='128 nuclei', marker='o')\n",
    "axes[1].set_title('Recall vs IoU Threshold')\n",
    "axes[1].set_xlabel('IoU Threshold')\n",
    "axes[1].set_ylabel('Recall')\n",
    "axes[1].grid(True)\n",
    "axes[1].legend(loc='lower left')\n",
    "\n",
    "plt.tight_layout()\n",
    "plt.show()"
   ]
  },
  {
   "cell_type": "code",
   "execution_count": null,
   "id": "6f15557c-7436-4d2b-ae73-01231594e6c4",
   "metadata": {},
   "outputs": [],
   "source": []
  }
 ],
 "metadata": {
  "kernelspec": {
   "display_name": "stardist",
   "language": "python",
   "name": "stardist"
  },
  "language_info": {
   "codemirror_mode": {
    "name": "ipython",
    "version": 3
   },
   "file_extension": ".py",
   "mimetype": "text/x-python",
   "name": "python",
   "nbconvert_exporter": "python",
   "pygments_lexer": "ipython3",
   "version": "3.10.13"
  }
 },
 "nbformat": 4,
 "nbformat_minor": 5
}
