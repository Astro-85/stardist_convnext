{
 "cells": [
  {
   "cell_type": "code",
   "execution_count": null,
   "id": "2355535c-8076-4b52-b7d9-e3073bd63911",
   "metadata": {},
   "outputs": [],
   "source": [
    "import torch\n",
    "\n",
    "# Load original state dict\n",
    "state_dict = torch.load('../../nuclear_segmentation/experiments/model_checkpoints/convnext_unet_base-3D/best.pth')['model_state_dict']\n",
    "\n",
    "# Get the original 1-channel convolution weights\n",
    "weight_key = 'encoder.downsample_layers.0.0.native_conv.weight'\n",
    "original_weight = state_dict[weight_key]  # shape: [out_channels, 1, D, H, W]\n",
    "\n",
    "# Expand to 3 input channels using averaging\n",
    "# new shape: [out_channels, 3, D, H, W]\n",
    "new_weight = original_weight.expand(-1, 3, -1, -1, -1) / 3.0\n",
    "\n",
    "# Assign the new weight\n",
    "state_dict[weight_key] = new_weight\n",
    "\n",
    "# Save the modified state dict\n",
    "#torch.save(state_dict, '../model_checkpoints/convnext_unet_base-4D_channels-starting.pth')"
   ]
  },
  {
   "cell_type": "code",
   "execution_count": null,
   "id": "e973426d-122f-4d00-8859-00a9d1905ded",
   "metadata": {},
   "outputs": [],
   "source": []
  }
 ],
 "metadata": {
  "kernelspec": {
   "display_name": "stardist",
   "language": "python",
   "name": "stardist"
  },
  "language_info": {
   "codemirror_mode": {
    "name": "ipython",
    "version": 3
   },
   "file_extension": ".py",
   "mimetype": "text/x-python",
   "name": "python",
   "nbconvert_exporter": "python",
   "pygments_lexer": "ipython3",
   "version": "3.10.13"
  }
 },
 "nbformat": 4,
 "nbformat_minor": 5
}
