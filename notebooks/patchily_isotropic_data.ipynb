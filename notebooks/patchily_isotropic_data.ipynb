{
 "cells": [
  {
   "cell_type": "code",
   "execution_count": 1,
   "id": "4bd01922-e7f5-466a-a0cd-39453119706a",
   "metadata": {},
   "outputs": [
    {
     "name": "stderr",
     "output_type": "stream",
     "text": [
      "/mnt/sw/nix/store/71ksmx7k6xy3v9ksfkv5mp5kxxp64pd6-python-3.10.13-view/lib/python3.10/site-packages/numpy/core/getlimits.py:549: UserWarning: The value of the smallest subnormal for <class 'numpy.float64'> type is zero.\n",
      "  setattr(self, word, getattr(machar, word).flat[0])\n",
      "/mnt/sw/nix/store/71ksmx7k6xy3v9ksfkv5mp5kxxp64pd6-python-3.10.13-view/lib/python3.10/site-packages/numpy/core/getlimits.py:89: UserWarning: The value of the smallest subnormal for <class 'numpy.float64'> type is zero.\n",
      "  return self._float_to_str(self.smallest_subnormal)\n",
      "/mnt/sw/nix/store/71ksmx7k6xy3v9ksfkv5mp5kxxp64pd6-python-3.10.13-view/lib/python3.10/site-packages/numpy/core/getlimits.py:549: UserWarning: The value of the smallest subnormal for <class 'numpy.float32'> type is zero.\n",
      "  setattr(self, word, getattr(machar, word).flat[0])\n",
      "/mnt/sw/nix/store/71ksmx7k6xy3v9ksfkv5mp5kxxp64pd6-python-3.10.13-view/lib/python3.10/site-packages/numpy/core/getlimits.py:89: UserWarning: The value of the smallest subnormal for <class 'numpy.float32'> type is zero.\n",
      "  return self._float_to_str(self.smallest_subnormal)\n"
     ]
    }
   ],
   "source": [
    "import os\n",
    "import torch\n",
    "import numpy as np\n",
    "import math\n",
    "import re\n",
    "import matplotlib.pyplot as plt\n",
    "from glob import glob\n",
    "from natsort import natsorted\n",
    "from tqdm import tqdm\n",
    "import scipy.ndimage"
   ]
  },
  {
   "cell_type": "code",
   "execution_count": 2,
   "id": "4a4f638f-d90f-41b2-82a6-e586cb9977f1",
   "metadata": {},
   "outputs": [],
   "source": [
    "all_image_paths = natsorted(glob('/mnt/home/alu10/ceph/codebases/registration/registered_sequences/registered_sequence_*/synced_images/synced_*.npy'))\n",
    "all_mask_paths = natsorted(glob('/mnt/home/alu10/ceph/codebases/registration/registered_sequences/registered_sequence_*/synced_masks/synced_*.npy'))"
   ]
  },
  {
   "cell_type": "code",
   "execution_count": 3,
   "id": "9bef8e0f-e757-4a4b-9c98-527570e839b5",
   "metadata": {},
   "outputs": [],
   "source": [
    "def extract_sequence_and_timepoint(path):\n",
    "    # Extract sequence name from the directory\n",
    "    sequence_match = re.search(r'registered_sequence_([^/]+)', path)\n",
    "    if not sequence_match:\n",
    "        raise ValueError(f\"Could not find sequence in path: {path}\")\n",
    "    sequence_name = sequence_match.group(1)\n",
    "\n",
    "    # Extract timepoint from the filename\n",
    "    filename = os.path.basename(path)\n",
    "    timepoint_match = re.search(r'_(\\d+)\\.npy$', filename)\n",
    "    if not timepoint_match:\n",
    "        raise ValueError(f\"Could not find timepoint in filename: {filename}\")\n",
    "    timepoint = int(timepoint_match.group(1))\n",
    "\n",
    "    timepoint_name = filename.split('synced_')[-1].split('.npy')[0]\n",
    "\n",
    "    return sequence_name, timepoint_name, timepoint, "
   ]
  },
  {
   "cell_type": "code",
   "execution_count": 4,
   "id": "354c81b8-8dcf-414c-b40b-91b36bac357f",
   "metadata": {
    "scrolled": true
   },
   "outputs": [
    {
     "name": "stdout",
     "output_type": "stream",
     "text": [
      "H4_020 - Number of crops: 8\n"
     ]
    }
   ],
   "source": [
    "def crop_with_overlap(array, crop_shape, overlap):\n",
    "    z, y, x = array.shape\n",
    "    crop_z, crop_y, crop_x = crop_shape\n",
    "    overlap_z, overlap_y, overlap_x = overlap\n",
    "\n",
    "    assert crop_z <= z and crop_y <= y and crop_x <= x\n",
    "    assert overlap_z <= crop_z and overlap_y <= crop_y and overlap_x <= crop_x\n",
    "\n",
    "    crops = []\n",
    "\n",
    "    for z_start in range(0, z, crop_z - overlap_z):\n",
    "        for y_start in range(0, y, crop_y - overlap_y):\n",
    "            for x_start in range(0, x, crop_x - overlap_x):\n",
    "                z_end = min(z_start + crop_z, z)\n",
    "                y_end = min(y_start + crop_y, y)\n",
    "                x_end = min(x_start + crop_x, x)\n",
    "\n",
    "                crop = array[z_end - crop_z:z_end, y_end - crop_y:y_end, x_end - crop_x:x_end]\n",
    "                assert crop.shape == crop_shape\n",
    "                crops.append(crop)\n",
    "\n",
    "    return crops\n",
    "\n",
    "crop_shape = (256, 256, 256)\n",
    "overlap = (0, 0, 0)\n",
    "\n",
    "all_image_crops = []\n",
    "all_mask_crops = []\n",
    "\n",
    "for image_path, mask_path in zip(all_image_paths, all_mask_paths):\n",
    "    sequence_name, timepoint_name, timepoint = extract_sequence_and_timepoint(image_path)\n",
    "        \n",
    "    try:\n",
    "        iso_image = np.load(image_path)\n",
    "        iso_mask = np.load(mask_path)\n",
    "    except Exception as e:\n",
    "        print(f\"Skipping {image_path} due to load error: {e}\")\n",
    "        continue\n",
    "\n",
    "    image_crops = crop_with_overlap(iso_image, crop_shape, overlap)\n",
    "    mask_crops = crop_with_overlap(iso_mask, crop_shape, overlap)\n",
    "\n",
    "    all_image_crops.extend(image_crops)\n",
    "    all_mask_crops.extend(mask_crops)\n",
    "\n",
    "    print(f\"{timepoint_name} - Number of crops: {len(image_crops)}\")\n",
    "\n",
    "    for i, (image_crop, mask_crop) in enumerate(zip(image_crops, mask_crops)):\n",
    "        cropped_image_dir = f'/mnt/ceph/users/alu10/datasets/256x256x256_Registered_Iso_Blastospim1-Trilinear_Image/{sequence_name}/{timepoint_name}/images'\n",
    "        cropped_mask_dir = f'/mnt/ceph/users/alu10/datasets/256x256x256_Registered_Iso_Blastospim1-Trilinear_Image/{sequence_name}/{timepoint_name}/masks'\n",
    "\n",
    "        os.makedirs(cropped_image_dir, exist_ok=True)\n",
    "        os.makedirs(cropped_mask_dir, exist_ok=True)\n",
    "\n",
    "        cropped_image_path = os.path.join(cropped_image_dir, f'{timepoint_name}_image_{i+1:04d}.npy')\n",
    "        cropped_mask_path = os.path.join(cropped_mask_dir, f'{timepoint_name}_masks_{i+1:04d}.npy')\n",
    "\n",
    "        # Skip if both cropped files already exist\n",
    "        if os.path.exists(cropped_image_path) and os.path.exists(cropped_mask_path):\n",
    "            print(f\"Skipping existing crops: {cropped_image_path}, {cropped_mask_path}\")\n",
    "\n",
    "        np.save(cropped_image_path, image_crop)\n",
    "        np.save(cropped_mask_path, mask_crop)\n"
   ]
  },
  {
   "cell_type": "code",
   "execution_count": null,
   "id": "f557032f-4838-4509-a7ba-e51d05d13aed",
   "metadata": {},
   "outputs": [],
   "source": []
  }
 ],
 "metadata": {
  "kernelspec": {
   "display_name": "stardist",
   "language": "python",
   "name": "stardist"
  },
  "language_info": {
   "codemirror_mode": {
    "name": "ipython",
    "version": 3
   },
   "file_extension": ".py",
   "mimetype": "text/x-python",
   "name": "python",
   "nbconvert_exporter": "python",
   "pygments_lexer": "ipython3",
   "version": "3.10.13"
  }
 },
 "nbformat": 4,
 "nbformat_minor": 5
}
